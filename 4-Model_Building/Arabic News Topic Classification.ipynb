{
 "cells": [
  {
   "cell_type": "markdown",
   "id": "e81e1d6b",
   "metadata": {},
   "source": [
    "# **Arabic News Topic Classification**"
   ]
  },
  {
   "cell_type": "markdown",
   "id": "14791e41",
   "metadata": {},
   "source": [
    "The Hespress Dataset is a collection of 11K news articles labelled by topic and 300K comments with a score by the users associated to each one of them, think of the scores as likes on a Facebook post. This dataset can be used for news article classification which will be our focus in this notebook and for sentimental analysis "
   ]
  },
  {
   "cell_type": "markdown",
   "id": "5dc08742",
   "metadata": {},
   "source": [
    "### **Problem Introduction:**\n",
    "\n",
    "Fortunately, our dataset contains both the articles and their labels, so we are dealing with a supervised learning problem which will make our life much easier since, if wasn’t the case, we would have to manually label each article or go with an unsupervised approach.\n",
    "\n",
    "In brief, our goal is to predict the topic of an article given its text. In total we have 11 topics:\n",
    "Tamazight (A Moroccan Language)\n",
    "\n",
    "*   Sport (Sport)\n",
    "*   Societe (Society)\n",
    "*   Regions (Regions)\n",
    "*   Politique (Politics)\n",
    "*   Orbites (World news)\n",
    "*   Medias (News from local newspapers)\n",
    "*   Faits Divers (Miscellaneous)\n",
    "*   Economie (Economy)\n",
    "*   Art Et Culture (Art and culture)\n",
    "\n"
   ]
  },
  {
   "cell_type": "markdown",
   "id": "6542d858",
   "metadata": {},
   "source": [
    "Since the data is stored in different files, each file contains data for a specific topic, we’ll have to loop over the topics and concatenate results."
   ]
  },
  {
   "cell_type": "code",
   "execution_count": 2,
   "id": "50a3881a",
   "metadata": {},
   "outputs": [],
   "source": [
    "import pandas as pd\n",
    "stories=pd.DataFrame()\n",
    "topics = [\"sport\",\"societe\",\"regions\",\"politique\",\"orbites\",\"medias\",\"faits-divers\",\"economie\",\"art-et-culture\"]\n",
    "for topic in topics:\n",
    "  stories=pd.concat([stories,pd.read_csv(\"stories_\"+topic+\".csv\")])\n",
    "stories.drop(columns=[\"Unnamed: 0\"],axis=1,inplace=True)"
   ]
  },
  {
   "cell_type": "markdown",
   "id": "97f01d1b",
   "metadata": {},
   "source": [
    "Next let’s get a sample from the data:"
   ]
  },
  {
   "cell_type": "code",
   "execution_count": 3,
   "id": "2d942841",
   "metadata": {},
   "outputs": [
    {
     "data": {
      "text/html": [
       "<div>\n",
       "<style scoped>\n",
       "    .dataframe tbody tr th:only-of-type {\n",
       "        vertical-align: middle;\n",
       "    }\n",
       "\n",
       "    .dataframe tbody tr th {\n",
       "        vertical-align: top;\n",
       "    }\n",
       "\n",
       "    .dataframe thead th {\n",
       "        text-align: right;\n",
       "    }\n",
       "</style>\n",
       "<table border=\"1\" class=\"dataframe\">\n",
       "  <thead>\n",
       "    <tr style=\"text-align: right;\">\n",
       "      <th></th>\n",
       "      <th>id</th>\n",
       "      <th>title</th>\n",
       "      <th>date</th>\n",
       "      <th>author</th>\n",
       "      <th>story</th>\n",
       "      <th>topic</th>\n",
       "    </tr>\n",
       "  </thead>\n",
       "  <tbody>\n",
       "    <tr>\n",
       "      <th>332</th>\n",
       "      <td>e9a44c3e055d11eb9741646e69d991ea</td>\n",
       "      <td>‪ ترشيح أمرابط لنيل لقب \"لاعب الموسم\" في إيطاليا</td>\n",
       "      <td>الخميس 30 يوليوز 2020 - 20:05</td>\n",
       "      <td>أوعنا بلعيد</td>\n",
       "      <td>حصد الدولي المغربي سفيان أمرابط ثمار جهده وتأل...</td>\n",
       "      <td>sport</td>\n",
       "    </tr>\n",
       "    <tr>\n",
       "      <th>346</th>\n",
       "      <td>cae6866204ea11eb8901646e69d991ea</td>\n",
       "      <td>\"المنافسة\" ينفي اتخاذ عقوبات ضد شركات محروقات</td>\n",
       "      <td>السبت 25 يوليوز 2020 - 13:37</td>\n",
       "      <td>هسبريس من الرباط</td>\n",
       "      <td>أكد مجلس المنافسة اليوم السبت أن مداولاته لازا...</td>\n",
       "      <td>economie</td>\n",
       "    </tr>\n",
       "    <tr>\n",
       "      <th>387</th>\n",
       "      <td>5d2ef8d8055a11ebaab1646e69d991ea</td>\n",
       "      <td>هكذا يُصَرف نظام الجزائر الأزمة الداخلية في إذ...</td>\n",
       "      <td>الخميس 11 يونيو 2020 - 08:00</td>\n",
       "      <td>هسبريس - عبد الرحيم العسري</td>\n",
       "      <td>أزمة دبلوماسية جديدة بين المغرب والجزائر بسبب ...</td>\n",
       "      <td>orbites</td>\n",
       "    </tr>\n",
       "    <tr>\n",
       "      <th>244</th>\n",
       "      <td>d893a2a804e511ebb342646e69d991ea</td>\n",
       "      <td>اغتصاب وقتل \"عدنان\" يعيد نقاش تعديل القانون ال...</td>\n",
       "      <td>الأحد 13 شتنبر 2020 - 10:00</td>\n",
       "      <td>هسبريس - أمال كنين</td>\n",
       "      <td>أدت جريمة خطف واغتصاب وقتل الطفل عدنان بطنجة إ...</td>\n",
       "      <td>societe</td>\n",
       "    </tr>\n",
       "    <tr>\n",
       "      <th>482</th>\n",
       "      <td>0d8d76a404df11ebb9bf646e69d991ea</td>\n",
       "      <td>مرحلة جديدة .. هذه رؤية عزيز أخنوش لمغرب ما بع...</td>\n",
       "      <td>الاثنين 13 أبريل 2020 - 20:30</td>\n",
       "      <td>عزيز أخنوش</td>\n",
       "      <td>يعيش العالم عامة والمغرب خاصة وضعا استثنائيا ب...</td>\n",
       "      <td>politique</td>\n",
       "    </tr>\n",
       "  </tbody>\n",
       "</table>\n",
       "</div>"
      ],
      "text/plain": [
       "                                   id  \\\n",
       "332  e9a44c3e055d11eb9741646e69d991ea   \n",
       "346  cae6866204ea11eb8901646e69d991ea   \n",
       "387  5d2ef8d8055a11ebaab1646e69d991ea   \n",
       "244  d893a2a804e511ebb342646e69d991ea   \n",
       "482  0d8d76a404df11ebb9bf646e69d991ea   \n",
       "\n",
       "                                                 title  \\\n",
       "332   ‪ ترشيح أمرابط لنيل لقب \"لاعب الموسم\" في إيطاليا   \n",
       "346      \"المنافسة\" ينفي اتخاذ عقوبات ضد شركات محروقات   \n",
       "387  هكذا يُصَرف نظام الجزائر الأزمة الداخلية في إذ...   \n",
       "244  اغتصاب وقتل \"عدنان\" يعيد نقاش تعديل القانون ال...   \n",
       "482  مرحلة جديدة .. هذه رؤية عزيز أخنوش لمغرب ما بع...   \n",
       "\n",
       "                              date                      author  \\\n",
       "332  الخميس 30 يوليوز 2020 - 20:05                 أوعنا بلعيد   \n",
       "346   السبت 25 يوليوز 2020 - 13:37            هسبريس من الرباط   \n",
       "387   الخميس 11 يونيو 2020 - 08:00  هسبريس - عبد الرحيم العسري   \n",
       "244    الأحد 13 شتنبر 2020 - 10:00          هسبريس - أمال كنين   \n",
       "482  الاثنين 13 أبريل 2020 - 20:30                  عزيز أخنوش   \n",
       "\n",
       "                                                 story      topic  \n",
       "332  حصد الدولي المغربي سفيان أمرابط ثمار جهده وتأل...      sport  \n",
       "346  أكد مجلس المنافسة اليوم السبت أن مداولاته لازا...   economie  \n",
       "387  أزمة دبلوماسية جديدة بين المغرب والجزائر بسبب ...    orbites  \n",
       "244  أدت جريمة خطف واغتصاب وقتل الطفل عدنان بطنجة إ...    societe  \n",
       "482  يعيش العالم عامة والمغرب خاصة وضعا استثنائيا ب...  politique  "
      ]
     },
     "execution_count": 3,
     "metadata": {},
     "output_type": "execute_result"
    }
   ],
   "source": [
    "stories.sample(5)"
   ]
  },
  {
   "cell_type": "code",
   "execution_count": 23,
   "id": "b4e56ff1",
   "metadata": {},
   "outputs": [
    {
     "data": {
      "text/plain": [
       "id        object\n",
       "title     object\n",
       "date      object\n",
       "author    object\n",
       "story     object\n",
       "topic     object\n",
       "dtype: object"
      ]
     },
     "execution_count": 23,
     "metadata": {},
     "output_type": "execute_result"
    }
   ],
   "source": [
    "stories.dtypes"
   ]
  },
  {
   "cell_type": "code",
   "execution_count": 16,
   "id": "b71d5ac4",
   "metadata": {},
   "outputs": [],
   "source": [
    "stories['story']=stories['story'].apply(str)"
   ]
  },
  {
   "cell_type": "markdown",
   "id": "34dfa317",
   "metadata": {},
   "source": [
    "We can see that we have 5 columns, for this article we are only interested in the story and the topic features."
   ]
  },
  {
   "cell_type": "markdown",
   "id": "0f50f664",
   "metadata": {},
   "source": [
    "Now let’s check how much stories we have in each topic, this is extremely important for classification since if we have an **imbalanced dataset** i.e.(we have a lot more datapoints in a topic than the others) our model will be biased and won’t work as well. If we have this problem one common solution is to apply an **under sampling** or **oversampling method**"
   ]
  },
  {
   "cell_type": "markdown",
   "id": "59bcf8f6",
   "metadata": {},
   "source": [
    "## **Exploratory Data Analysis:**"
   ]
  },
  {
   "cell_type": "markdown",
   "id": "51c03cb8",
   "metadata": {},
   "source": [
    "We’ll be using seaborn for data visualisation and pandas for data manipulation."
   ]
  },
  {
   "cell_type": "code",
   "execution_count": 4,
   "id": "0150a153",
   "metadata": {},
   "outputs": [
    {
     "data": {
      "text/plain": [
       "<AxesSubplot:xlabel='topic', ylabel='story'>"
      ]
     },
     "execution_count": 4,
     "metadata": {},
     "output_type": "execute_result"
    },
    {
     "data": {
      "image/png": "[encoded data removed]",
      "text/plain": [
       "<Figure size 432x288 with 1 Axes>"
      ]
     },
     "metadata": {
      "needs_background": "light"
     },
     "output_type": "display_data"
    }
   ],
   "source": [
    "import seaborn as sns\n",
    "storiesByTopic = stories.groupby(by = \"topic\").count()[\"story\"]\n",
    "sns.barplot(x=storiesByTopic.index, y=storiesByTopic)"
   ]
  },
  {
   "cell_type": "markdown",
   "id": "ad994149",
   "metadata": {},
   "source": [
    "We can see that we have almost 1000 stories per topic, our dataset is perfectly balanced."
   ]
  },
  {
   "cell_type": "markdown",
   "id": "f1245ee2",
   "metadata": {},
   "source": [
    "## **Data Cleaning:**"
   ]
  },
  {
   "cell_type": "markdown",
   "id": "e9a609a6",
   "metadata": {},
   "source": [
    "**Removing Stop Words:** some words such as “و”, “كيف” have extremely high recurrence in all Arabic texts and provide no meaning that our model can use to predict. Removing them will reduce noise and let our model focus only on relevant words. To do so we will be using a list and looping over all the articles removing all the words that appear in the list."
   ]
  },
  {
   "cell_type": "code",
   "execution_count": 32,
   "id": "c7296871",
   "metadata": {},
   "outputs": [],
   "source": [
    "from nltk.tokenize import word_tokenize\n",
    "#This module breaks each word with punctuation which you can see in the output.\n",
    "file1 = open('list.txt', 'r', encoding='utf-8')\n",
    "stopwords_arabic = file1.read().splitlines()+[\"المغرب\",\"المغربية\",\"المغربي\"]\n",
    "#we added [\"المغرب\",\"المغربية\",\"المغربي\"] because our dataset is from maghreb and contains alot these  words\n",
    "\n",
    "#a function that takes as input a word and a list of stopwords then check if the word is a stopword then \n",
    "#it will be removed else it will stay\n",
    "def removeStopWords(stopwords):\n",
    "    stories['story_without_stopwords'] = stories['story'].apply(lambda x: ' '.join([word for word in word_tokenize(x) if not word in stopwords]))"
   ]
  },
  {
   "cell_type": "markdown",
   "id": "74471bd3",
   "metadata": {},
   "source": [
    "**Removing Punctuation:**"
   ]
  },
  {
   "cell_type": "code",
   "execution_count": 40,
   "id": "a7576dfb",
   "metadata": {},
   "outputs": [],
   "source": [
    "def removePunctuation():\n",
    "    #\\w+ matches any word character (equal to [a-zA-Z0-9_])\n",
    "    stories['story_clean'] = stories['story_without_stopwords'].str.replace('[^\\w\\s]','')"
   ]
  },
  {
   "cell_type": "markdown",
   "id": "01add0da",
   "metadata": {},
   "source": [
    "**Drawing a WordCloud:**"
   ]
  },
  {
   "cell_type": "markdown",
   "id": "82b85a8a",
   "metadata": {},
   "source": [
    "Reference for wordcloud with Arabic library: https://amueller.github.io/word_cloud/auto_examples/arabic.html"
   ]
  },
  {
   "cell_type": "code",
   "execution_count": 9,
   "id": "557b12e1",
   "metadata": {},
   "outputs": [
    {
     "name": "stdout",
     "output_type": "stream",
     "text": [
      "Collecting arabic_reshaper\n",
      "  Downloading arabic_reshaper-2.1.3-py3-none-any.whl (20 kB)\n",
      "Requirement already satisfied: future in c:\\users\\lenovo\\anaconda3\\lib\\site-packages (from arabic_reshaper) (0.18.2)\n",
      "Requirement already satisfied: setuptools in c:\\users\\lenovo\\anaconda3\\lib\\site-packages (from arabic_reshaper) (52.0.0.post20210125)\n",
      "Installing collected packages: arabic-reshaper\n",
      "Successfully installed arabic-reshaper-2.1.3\n",
      "Note: you may need to restart the kernel to use updated packages.\n"
     ]
    }
   ],
   "source": [
    "pip install arabic_reshaper"
   ]
  },
  {
   "cell_type": "code",
   "execution_count": 11,
   "id": "bfa70c2e",
   "metadata": {},
   "outputs": [
    {
     "name": "stdout",
     "output_type": "stream",
     "text": [
      "Collecting python-bidi\n",
      "  Downloading python_bidi-0.4.2-py2.py3-none-any.whl (30 kB)\n",
      "Requirement already satisfied: six in c:\\users\\lenovo\\anaconda3\\lib\\site-packages (from python-bidi) (1.15.0)\n",
      "Installing collected packages: python-bidi\n",
      "Successfully installed python-bidi-0.4.2\n",
      "Note: you may need to restart the kernel to use updated packages.\n"
     ]
    }
   ],
   "source": [
    "pip install python-bidi"
   ]
  },
  {
   "cell_type": "code",
   "execution_count": 12,
   "id": "f5df583f",
   "metadata": {},
   "outputs": [],
   "source": [
    "## Make text readable for a non-Arabic library like wordcloud\n",
    "import arabic_reshaper\n",
    "from bidi.algorithm import get_display\n",
    "import matplotlib.pyplot as plt\n",
    "%matplotlib inline"
   ]
  },
  {
   "cell_type": "code",
   "execution_count": 41,
   "id": "af11818e",
   "metadata": {},
   "outputs": [
    {
     "name": "stderr",
     "output_type": "stream",
     "text": [
      "<ipython-input-40-758bbe0567cf>:3: FutureWarning: The default value of regex will change from True to False in a future version.\n",
      "  stories['story_clean'] = stories['story_without_stopwords'].str.replace('[^\\w\\s]','')\n"
     ]
    }
   ],
   "source": [
    "def preprocessText(stopwords):\n",
    "    #calling to function that removes the stopwords\n",
    "    removeStopWords(stopwords)\n",
    "    #calling the function that removes the punctuations\n",
    "    removePunctuation()\n",
    "preprocessText(stopwords_arabic)"
   ]
  },
  {
   "cell_type": "code",
   "execution_count": 42,
   "id": "548672b1",
   "metadata": {},
   "outputs": [
    {
     "data": {
      "text/html": [
       "<div>\n",
       "<style scoped>\n",
       "    .dataframe tbody tr th:only-of-type {\n",
       "        vertical-align: middle;\n",
       "    }\n",
       "\n",
       "    .dataframe tbody tr th {\n",
       "        vertical-align: top;\n",
       "    }\n",
       "\n",
       "    .dataframe thead th {\n",
       "        text-align: right;\n",
       "    }\n",
       "</style>\n",
       "<table border=\"1\" class=\"dataframe\">\n",
       "  <thead>\n",
       "    <tr style=\"text-align: right;\">\n",
       "      <th></th>\n",
       "      <th>id</th>\n",
       "      <th>title</th>\n",
       "      <th>date</th>\n",
       "      <th>author</th>\n",
       "      <th>story</th>\n",
       "      <th>topic</th>\n",
       "      <th>story_without_stopwords</th>\n",
       "      <th>story_clean</th>\n",
       "    </tr>\n",
       "  </thead>\n",
       "  <tbody>\n",
       "    <tr>\n",
       "      <th>0</th>\n",
       "      <td>ad7f145a055c11ebbc5e646e69d991ea</td>\n",
       "      <td>3 أندية تشعل المنافسة على درع البطولة الوطنية</td>\n",
       "      <td>السبت 03 أكتوبر 2020 - 07:50</td>\n",
       "      <td>هسبورت - آمال لكعيدا</td>\n",
       "      <td>رغم أن المستوى التقني العام لمباريات الدوري، م...</td>\n",
       "      <td>sport</td>\n",
       "      <td>رغم المستوى التقني العام لمباريات الدوري، استئ...</td>\n",
       "      <td>رغم المستوى التقني العام لمباريات الدوري استئن...</td>\n",
       "    </tr>\n",
       "    <tr>\n",
       "      <th>1</th>\n",
       "      <td>ae3e012c055c11ebb26e646e69d991ea</td>\n",
       "      <td>لامبارد يؤكد غياب زياش مجددا عن نادي تشيلسي</td>\n",
       "      <td>السبت 03 أكتوبر 2020 - 02:30</td>\n",
       "      <td>هسبورت - حمزة اشتيوي</td>\n",
       "      <td>أكد فرانك لامبارد، مدرب نادي تشيلسي الإنجليزي ...</td>\n",
       "      <td>sport</td>\n",
       "      <td>أكد فرانك لامبارد، مدرب نادي تشيلسي الإنجليزي ...</td>\n",
       "      <td>أكد فرانك لامبارد مدرب نادي تشيلسي الإنجليزي ل...</td>\n",
       "    </tr>\n",
       "    <tr>\n",
       "      <th>2</th>\n",
       "      <td>af1ce6ec055c11eb9fcc646e69d991ea</td>\n",
       "      <td>إعفاء البرتغالي \"أروزو\" من تدريب منتخب الشبان</td>\n",
       "      <td>الجمعة 02 أكتوبر 2020 - 20:20</td>\n",
       "      <td>هسبريس من الرباط</td>\n",
       "      <td>وافقت الإدارة التقنية التابعة للجامعة الملكية ...</td>\n",
       "      <td>sport</td>\n",
       "      <td>وافقت الإدارة التقنية التابعة للجامعة الملكية ...</td>\n",
       "      <td>وافقت الإدارة التقنية التابعة للجامعة الملكية ...</td>\n",
       "    </tr>\n",
       "    <tr>\n",
       "      <th>3</th>\n",
       "      <td>afffccd4055c11eb9d42646e69d991ea</td>\n",
       "      <td>\"فيفا\" يجري تعديلات على قواعد استدعاء اللاعبين</td>\n",
       "      <td>الجمعة 02 أكتوبر 2020 - 17:47</td>\n",
       "      <td>هسبريس - د.ب.أ</td>\n",
       "      <td>أعلن الاتحاد الدولي لكرة القدم (فيفا) في وقت م...</td>\n",
       "      <td>sport</td>\n",
       "      <td>أعلن الاتحاد الدولي لكرة القدم ( فيفا ) وقت مت...</td>\n",
       "      <td>أعلن الاتحاد الدولي لكرة القدم  فيفا  وقت متأخ...</td>\n",
       "    </tr>\n",
       "    <tr>\n",
       "      <th>4</th>\n",
       "      <td>b0e1a962055c11ebb4fd646e69d991ea</td>\n",
       "      <td>الجامعة الملكية للكراطي تقرر دعم جمعيات رياضية</td>\n",
       "      <td>الجمعة 02 أكتوبر 2020 - 01:41</td>\n",
       "      <td>ياسين أوشن</td>\n",
       "      <td>قررت \"الجامعة الملكية المغربية للكراطي وأساليب...</td>\n",
       "      <td>sport</td>\n",
       "      <td>قررت `` الجامعة الملكية للكراطي وأساليب مشتركة...</td>\n",
       "      <td>قررت  الجامعة الملكية للكراطي وأساليب مشتركة  ...</td>\n",
       "    </tr>\n",
       "  </tbody>\n",
       "</table>\n",
       "</div>"
      ],
      "text/plain": [
       "                                 id  \\\n",
       "0  ad7f145a055c11ebbc5e646e69d991ea   \n",
       "1  ae3e012c055c11ebb26e646e69d991ea   \n",
       "2  af1ce6ec055c11eb9fcc646e69d991ea   \n",
       "3  afffccd4055c11eb9d42646e69d991ea   \n",
       "4  b0e1a962055c11ebb4fd646e69d991ea   \n",
       "\n",
       "                                            title  \\\n",
       "0   3 أندية تشعل المنافسة على درع البطولة الوطنية   \n",
       "1     لامبارد يؤكد غياب زياش مجددا عن نادي تشيلسي   \n",
       "2   إعفاء البرتغالي \"أروزو\" من تدريب منتخب الشبان   \n",
       "3  \"فيفا\" يجري تعديلات على قواعد استدعاء اللاعبين   \n",
       "4  الجامعة الملكية للكراطي تقرر دعم جمعيات رياضية   \n",
       "\n",
       "                            date                author  \\\n",
       "0   السبت 03 أكتوبر 2020 - 07:50  هسبورت - آمال لكعيدا   \n",
       "1   السبت 03 أكتوبر 2020 - 02:30  هسبورت - حمزة اشتيوي   \n",
       "2  الجمعة 02 أكتوبر 2020 - 20:20      هسبريس من الرباط   \n",
       "3  الجمعة 02 أكتوبر 2020 - 17:47        هسبريس - د.ب.أ   \n",
       "4  الجمعة 02 أكتوبر 2020 - 01:41            ياسين أوشن   \n",
       "\n",
       "                                               story  topic  \\\n",
       "0  رغم أن المستوى التقني العام لمباريات الدوري، م...  sport   \n",
       "1  أكد فرانك لامبارد، مدرب نادي تشيلسي الإنجليزي ...  sport   \n",
       "2  وافقت الإدارة التقنية التابعة للجامعة الملكية ...  sport   \n",
       "3  أعلن الاتحاد الدولي لكرة القدم (فيفا) في وقت م...  sport   \n",
       "4  قررت \"الجامعة الملكية المغربية للكراطي وأساليب...  sport   \n",
       "\n",
       "                             story_without_stopwords  \\\n",
       "0  رغم المستوى التقني العام لمباريات الدوري، استئ...   \n",
       "1  أكد فرانك لامبارد، مدرب نادي تشيلسي الإنجليزي ...   \n",
       "2  وافقت الإدارة التقنية التابعة للجامعة الملكية ...   \n",
       "3  أعلن الاتحاد الدولي لكرة القدم ( فيفا ) وقت مت...   \n",
       "4  قررت `` الجامعة الملكية للكراطي وأساليب مشتركة...   \n",
       "\n",
       "                                         story_clean  \n",
       "0  رغم المستوى التقني العام لمباريات الدوري استئن...  \n",
       "1  أكد فرانك لامبارد مدرب نادي تشيلسي الإنجليزي ل...  \n",
       "2  وافقت الإدارة التقنية التابعة للجامعة الملكية ...  \n",
       "3  أعلن الاتحاد الدولي لكرة القدم  فيفا  وقت متأخ...  \n",
       "4  قررت  الجامعة الملكية للكراطي وأساليب مشتركة  ...  "
      ]
     },
     "execution_count": 42,
     "metadata": {},
     "output_type": "execute_result"
    }
   ],
   "source": [
    "stories.head()"
   ]
  },
  {
   "cell_type": "code",
   "execution_count": 48,
   "id": "51c6eb38",
   "metadata": {},
   "outputs": [],
   "source": [
    "text = stories['story_clean'].values \n",
    "comment_words=''\n",
    "for words in text: \n",
    "    comment_words = comment_words + words + ' '"
   ]
  },
  {
   "cell_type": "code",
   "execution_count": 69,
   "id": "72366d05",
   "metadata": {},
   "outputs": [],
   "source": [
    "reshaped_text = arabic_reshaper.reshape(comment_words)\n",
    "bidi_text = get_display(reshaped_text)"
   ]
  },
  {
   "cell_type": "code",
   "execution_count": 53,
   "id": "f7f32596",
   "metadata": {},
   "outputs": [
    {
     "name": "stdout",
     "output_type": "stream",
     "text": [
      "Collecting wordcloud\n",
      "  Downloading wordcloud-1.8.1-cp38-cp38-win_amd64.whl (155 kB)\n",
      "Requirement already satisfied: matplotlib in c:\\users\\lenovo\\anaconda3\\lib\\site-packages (from wordcloud) (3.3.4)\n",
      "Requirement already satisfied: numpy>=1.6.1 in c:\\users\\lenovo\\anaconda3\\lib\\site-packages (from wordcloud) (1.20.1)\n",
      "Requirement already satisfied: pillow in c:\\users\\lenovo\\anaconda3\\lib\\site-packages (from wordcloud) (8.2.0)\n",
      "Requirement already satisfied: python-dateutil>=2.1 in c:\\users\\lenovo\\anaconda3\\lib\\site-packages (from matplotlib->wordcloud) (2.8.1)\n",
      "Requirement already satisfied: kiwisolver>=1.0.1 in c:\\users\\lenovo\\anaconda3\\lib\\site-packages (from matplotlib->wordcloud) (1.3.1)\n",
      "Requirement already satisfied: cycler>=0.10 in c:\\users\\lenovo\\anaconda3\\lib\\site-packages (from matplotlib->wordcloud) (0.10.0)\n",
      "Requirement already satisfied: pyparsing!=2.0.4,!=2.1.2,!=2.1.6,>=2.0.3 in c:\\users\\lenovo\\anaconda3\\lib\\site-packages (from matplotlib->wordcloud) (2.4.7)\n",
      "Requirement already satisfied: six in c:\\users\\lenovo\\anaconda3\\lib\\site-packages (from cycler>=0.10->matplotlib->wordcloud) (1.15.0)\n",
      "Installing collected packages: wordcloud\n",
      "Successfully installed wordcloud-1.8.1\n",
      "Note: you may need to restart the kernel to use updated packages.\n"
     ]
    }
   ],
   "source": [
    "pip install wordcloud"
   ]
  },
  {
   "cell_type": "code",
   "execution_count": 72,
   "id": "a2a51a85",
   "metadata": {},
   "outputs": [],
   "source": [
    "from wordcloud import WordCloud\n",
    "font_file = './NotoNaskhArabic-Regular.ttf'\n",
    "wordcloud = WordCloud(width = 800, height = 800,min_font_size = 10,font_path=font_file).generate(bidi_text)"
   ]
  },
  {
   "cell_type": "code",
   "execution_count": 73,
   "id": "a31b491e",
   "metadata": {},
   "outputs": [
    {
     "data": {
      "text/plain": [
       "<wordcloud.wordcloud.WordCloud at 0x1ca1b4a9550>"
      ]
     },
     "execution_count": 73,
     "metadata": {},
     "output_type": "execute_result"
    }
   ],
   "source": [
    "wordcloud.to_file(\"arabic_example13.png\")"
   ]
  },
  {
   "cell_type": "code",
   "execution_count": 76,
   "id": "67ffc8d3",
   "metadata": {},
   "outputs": [
    {
     "data": {
      "image/png": "[encoded data removed]",
      "text/plain": [
       "<Figure size 432x288 with 1 Axes>"
      ]
     },
     "metadata": {
      "needs_background": "light"
     },
     "output_type": "display_data"
    }
   ],
   "source": [
    "plt.imshow(wordcloud, interpolation=\"bilinear\")\n",
    "plt.axis(\"off\")\n",
    "plt.show()"
   ]
  },
  {
   "cell_type": "markdown",
   "id": "aa9ac3e2",
   "metadata": {},
   "source": [
    "## **Feature engineering:**"
   ]
  },
  {
   "cell_type": "markdown",
   "id": "e246ee7e",
   "metadata": {},
   "source": [
    "Machine learning models are in their essence mathematical equations and can’t understand text, so before running our models we need to transform our text to numbers"
   ]
  },
  {
   "cell_type": "markdown",
   "id": "9ad5fe9a",
   "metadata": {},
   "source": [
    "*  **Word Count:**\n",
    "\n",
    "Every columns represents a word from the entire stories corpus, and every row represents a story, the cell values are the frequency in which a word appears in the story!\n",
    "\n",
    "*  **TF–IDF:**\n",
    "\n",
    "TF-IDF stands for “Term Frequency Inverse Document Frequency” it uses a slightly more complicated approach which will penalize common words that occur in multiple documents."
   ]
  },
  {
   "cell_type": "markdown",
   "id": "fc0f611a",
   "metadata": {},
   "source": [
    "We will be using TF-IDF since it has better performance!"
   ]
  },
  {
   "cell_type": "code",
   "execution_count": 77,
   "id": "5955b120",
   "metadata": {},
   "outputs": [],
   "source": [
    "#Convert a collection of raw documents to a matrix of TF-IDF features\n",
    "from sklearn.feature_extraction.text import TfidfVectorizer\n",
    "\n",
    "#Vectorize the stories\n",
    "\n",
    "vectorizer = TfidfVectorizer()\n",
    "X = vectorizer.fit_transform(stories[\"story_clean\"])\n",
    "y=stories.topic"
   ]
  },
  {
   "cell_type": "markdown",
   "id": "214756d9",
   "metadata": {},
   "source": [
    "## **Modelling:**"
   ]
  },
  {
   "cell_type": "code",
   "execution_count": 87,
   "id": "0ca3f48f",
   "metadata": {},
   "outputs": [],
   "source": [
    "#cross_val_score() function will be used to perform the evaluation\n",
    "#train_test_split()  function in Sklearn model selection for splitting data arrays into two subsets:\n",
    "#for training data and for testing data so we don't need to divide the dataset manually\n",
    "#classification_report() function for performance evaluation metric in machine learning,we use it to show the precision, recall, F1 Score,"
   ]
  },
  {
   "cell_type": "code",
   "execution_count": 82,
   "id": "7dd7f5fc",
   "metadata": {},
   "outputs": [],
   "source": [
    "from sklearn.model_selection import train_test_split\n",
    "from sklearn.metrics import accuracy_score\n",
    "from sklearn.model_selection import cross_val_score\n",
    "import numpy as np\n",
    "from sklearn.metrics import classification_report\n",
    "\n",
    "##testModel function will take as input the model name, X: feature and y: label\n",
    "#We automated the testing model part because it will save us time when testing multiple models such as\n",
    "#LogisticRegression + SGDClassifier + MultinomialNB + RandomForestClassifier\n",
    "\n",
    "def testModel(model,X,y):\n",
    "    X_train, X_test, y_train, y_test = train_test_split(X, y, test_size=0.2, random_state=42)\n",
    "    model = model()\n",
    "    model.fit(X_train,y_train)\n",
    "    modelName = type(model).__name__\n",
    "    pred=model.predict(X_test)\n",
    "    print(modelName)\n",
    "    print(classification_report(y_test,model.predict(X_test)))\n",
    "    score=np.mean(cross_val_score(model, X, y, cv=5))\n",
    "\n",
    "    return model,{\"model\":modelName,\"score\":score}"
   ]
  },
  {
   "cell_type": "code",
   "execution_count": 83,
   "id": "6695666b",
   "metadata": {},
   "outputs": [
    {
     "name": "stdout",
     "output_type": "stream",
     "text": [
      "LogisticRegression\n",
      "                precision    recall  f1-score   support\n",
      "\n",
      "art-et-culture       0.89      0.97      0.93       201\n",
      "      economie       0.82      0.86      0.84       204\n",
      "  faits-divers       0.98      0.95      0.96       209\n",
      "        medias       0.95      0.89      0.92       207\n",
      "       orbites       0.73      0.73      0.73       203\n",
      "     politique       0.76      0.77      0.77       191\n",
      "       regions       0.78      0.83      0.81       179\n",
      "       societe       0.76      0.68      0.72       211\n",
      "         sport       0.98      0.97      0.98       195\n",
      "\n",
      "      accuracy                           0.85      1800\n",
      "     macro avg       0.85      0.85      0.85      1800\n",
      "  weighted avg       0.85      0.85      0.85      1800\n",
      "\n"
     ]
    },
    {
     "data": {
      "text/plain": [
       "(LogisticRegression(),\n",
       " {'model': 'LogisticRegression', 'score': 0.8334444444444445})"
      ]
     },
     "execution_count": 83,
     "metadata": {},
     "output_type": "execute_result"
    }
   ],
   "source": [
    "from sklearn.linear_model import LogisticRegression\n",
    "testModel(LogisticRegression,X,y)"
   ]
  },
  {
   "cell_type": "code",
   "execution_count": 84,
   "id": "0b3c19ca",
   "metadata": {},
   "outputs": [
    {
     "name": "stdout",
     "output_type": "stream",
     "text": [
      "SGDClassifier\n",
      "                precision    recall  f1-score   support\n",
      "\n",
      "art-et-culture       0.89      0.95      0.92       201\n",
      "      economie       0.81      0.89      0.85       204\n",
      "  faits-divers       0.96      0.94      0.95       209\n",
      "        medias       0.95      0.91      0.93       207\n",
      "       orbites       0.76      0.69      0.72       203\n",
      "     politique       0.77      0.81      0.79       191\n",
      "       regions       0.76      0.83      0.79       179\n",
      "       societe       0.79      0.68      0.73       211\n",
      "         sport       0.98      0.98      0.98       195\n",
      "\n",
      "      accuracy                           0.85      1800\n",
      "     macro avg       0.85      0.85      0.85      1800\n",
      "  weighted avg       0.85      0.85      0.85      1800\n",
      "\n"
     ]
    },
    {
     "data": {
      "text/plain": [
       "(SGDClassifier(), {'model': 'SGDClassifier', 'score': 0.8388888888888889})"
      ]
     },
     "execution_count": 84,
     "metadata": {},
     "output_type": "execute_result"
    }
   ],
   "source": [
    "from sklearn.linear_model import SGDClassifier\n",
    "testModel(SGDClassifier,X,y)"
   ]
  },
  {
   "cell_type": "code",
   "execution_count": 85,
   "id": "f7f3999f",
   "metadata": {},
   "outputs": [
    {
     "name": "stdout",
     "output_type": "stream",
     "text": [
      "MultinomialNB\n",
      "                precision    recall  f1-score   support\n",
      "\n",
      "art-et-culture       0.96      0.85      0.90       201\n",
      "      economie       0.79      0.88      0.84       204\n",
      "  faits-divers       0.98      0.92      0.95       209\n",
      "        medias       0.67      0.95      0.79       207\n",
      "       orbites       0.79      0.66      0.72       203\n",
      "     politique       0.73      0.82      0.77       191\n",
      "       regions       0.81      0.72      0.76       179\n",
      "       societe       0.76      0.63      0.69       211\n",
      "         sport       0.99      0.97      0.98       195\n",
      "\n",
      "      accuracy                           0.82      1800\n",
      "     macro avg       0.83      0.82      0.82      1800\n",
      "  weighted avg       0.83      0.82      0.82      1800\n",
      "\n"
     ]
    },
    {
     "data": {
      "text/plain": [
       "(MultinomialNB(), {'model': 'MultinomialNB', 'score': 0.788888888888889})"
      ]
     },
     "execution_count": 85,
     "metadata": {},
     "output_type": "execute_result"
    }
   ],
   "source": [
    "from sklearn.naive_bayes import MultinomialNB\n",
    "testModel(MultinomialNB,X,y)"
   ]
  },
  {
   "cell_type": "code",
   "execution_count": 86,
   "id": "8e1ebfd4",
   "metadata": {},
   "outputs": [
    {
     "name": "stdout",
     "output_type": "stream",
     "text": [
      "RandomForestClassifier\n",
      "                precision    recall  f1-score   support\n",
      "\n",
      "art-et-culture       0.83      0.96      0.89       201\n",
      "      economie       0.72      0.85      0.78       204\n",
      "  faits-divers       0.91      0.97      0.94       209\n",
      "        medias       0.96      0.84      0.89       207\n",
      "       orbites       0.76      0.57      0.65       203\n",
      "     politique       0.66      0.83      0.73       191\n",
      "       regions       0.71      0.78      0.74       179\n",
      "       societe       0.80      0.53      0.63       211\n",
      "         sport       0.97      0.97      0.97       195\n",
      "\n",
      "      accuracy                           0.81      1800\n",
      "     macro avg       0.81      0.81      0.80      1800\n",
      "  weighted avg       0.81      0.81      0.80      1800\n",
      "\n"
     ]
    },
    {
     "data": {
      "text/plain": [
       "(RandomForestClassifier(),\n",
       " {'model': 'RandomForestClassifier', 'score': 0.795888888888889})"
      ]
     },
     "execution_count": 86,
     "metadata": {},
     "output_type": "execute_result"
    }
   ],
   "source": [
    "from sklearn.ensemble import RandomForestClassifier\n",
    "testModel(RandomForestClassifier,X,y)"
   ]
  },
  {
   "cell_type": "markdown",
   "id": "442e4833",
   "metadata": {},
   "source": [
    "As we can see the **two most performing models** are:\n",
    "\n",
    "\n",
    "1.   SGDClassifier\n",
    "2.   LogisticRegression"
   ]
  },
  {
   "cell_type": "markdown",
   "id": "48d8248a",
   "metadata": {},
   "source": [
    "Now we will try to imporove our model results using **hyperparameter tuning**"
   ]
  },
  {
   "cell_type": "markdown",
   "id": "1a70335a",
   "metadata": {},
   "source": [
    "## Hyperparameter tuning"
   ]
  },
  {
   "cell_type": "markdown",
   "id": "50fcb895",
   "metadata": {},
   "source": [
    "Hyper-Parameter optimisation using **parfit**:"
   ]
  },
  {
   "cell_type": "markdown",
   "id": "2ccedd4a",
   "metadata": {},
   "source": [
    "**Parfit** :\n",
    "\n",
    "A package for parallelizing the fit and flexibly scoring of sklearn machine learning models, with visualization routines.\n",
    "\n",
    "Parfit gives us the flexibility of evaluating our metric on a separate validation set unlike GridSearchCV which uses cross validation instead.\n",
    "\n"
   ]
  },
  {
   "cell_type": "code",
   "execution_count": 88,
   "id": "dc022e53",
   "metadata": {},
   "outputs": [
    {
     "name": "stdout",
     "output_type": "stream",
     "text": [
      "Collecting parfit\n",
      "  Downloading parfit-0.220.tar.gz (5.4 kB)\n",
      "Requirement already satisfied: joblib in c:\\users\\lenovo\\anaconda3\\lib\\site-packages (from parfit) (1.0.1)\n",
      "Requirement already satisfied: matplotlib in c:\\users\\lenovo\\anaconda3\\lib\\site-packages (from parfit) (3.3.4)\n",
      "Collecting sklearn\n",
      "  Using cached sklearn-0.0.tar.gz (1.1 kB)\n",
      "Requirement already satisfied: numpy in c:\\users\\lenovo\\anaconda3\\lib\\site-packages (from parfit) (1.20.1)\n",
      "Requirement already satisfied: pyparsing!=2.0.4,!=2.1.2,!=2.1.6,>=2.0.3 in c:\\users\\lenovo\\anaconda3\\lib\\site-packages (from matplotlib->parfit) (2.4.7)\n",
      "Requirement already satisfied: python-dateutil>=2.1 in c:\\users\\lenovo\\anaconda3\\lib\\site-packages (from matplotlib->parfit) (2.8.1)\n",
      "Requirement already satisfied: cycler>=0.10 in c:\\users\\lenovo\\anaconda3\\lib\\site-packages (from matplotlib->parfit) (0.10.0)\n",
      "Requirement already satisfied: kiwisolver>=1.0.1 in c:\\users\\lenovo\\anaconda3\\lib\\site-packages (from matplotlib->parfit) (1.3.1)\n",
      "Requirement already satisfied: pillow>=6.2.0 in c:\\users\\lenovo\\anaconda3\\lib\\site-packages (from matplotlib->parfit) (8.2.0)\n",
      "Requirement already satisfied: six in c:\\users\\lenovo\\anaconda3\\lib\\site-packages (from cycler>=0.10->matplotlib->parfit) (1.15.0)\n",
      "Requirement already satisfied: scikit-learn in c:\\users\\lenovo\\anaconda3\\lib\\site-packages (from sklearn->parfit) (0.24.1)\n",
      "Requirement already satisfied: scipy>=0.19.1 in c:\\users\\lenovo\\anaconda3\\lib\\site-packages (from scikit-learn->sklearn->parfit) (1.6.2)\n",
      "Requirement already satisfied: threadpoolctl>=2.0.0 in c:\\users\\lenovo\\anaconda3\\lib\\site-packages (from scikit-learn->sklearn->parfit) (2.1.0)\n",
      "Building wheels for collected packages: parfit, sklearn\n",
      "  Building wheel for parfit (setup.py): started\n",
      "  Building wheel for parfit (setup.py): finished with status 'done'\n",
      "  Created wheel for parfit: filename=parfit-0.220-py3-none-any.whl size=8659 sha256=40e3b58dea528deedbea165df51ae25dc0eb21114de8c03b4757058611a22d37\n",
      "  Stored in directory: c:\\users\\lenovo\\appdata\\local\\pip\\cache\\wheels\\71\\ce\\ff\\5bee3f34f7544130528c250644c041c8eecbafcee5a572acb4\n",
      "  Building wheel for sklearn (setup.py): started\n",
      "  Building wheel for sklearn (setup.py): finished with status 'done'\n",
      "  Created wheel for sklearn: filename=sklearn-0.0-py2.py3-none-any.whl size=1316 sha256=d606ca959b728ca98af173d8adce4591579fd5c34464a0c1e162b333e340a0a6\n",
      "  Stored in directory: c:\\users\\lenovo\\appdata\\local\\pip\\cache\\wheels\\22\\0b\\40\\fd3f795caaa1fb4c6cb738bc1f56100be1e57da95849bfc897\n",
      "Successfully built parfit sklearn\n",
      "Installing collected packages: sklearn, parfit\n",
      "Successfully installed parfit-0.220 sklearn-0.0\n",
      "Note: you may need to restart the kernel to use updated packages.\n"
     ]
    }
   ],
   "source": [
    "pip install parfit"
   ]
  },
  {
   "cell_type": "markdown",
   "id": "fab329ec",
   "metadata": {},
   "source": [
    "### Parfit on Logistic Regression:"
   ]
  },
  {
   "cell_type": "markdown",
   "id": "59f0411b",
   "metadata": {},
   "source": [
    "To read more about **L1 and L2 Regularization:** \n",
    "\n",
    "*   [L1 and L2 Regularization — Explained](https://towardsdatascience.com/l1-and-l2-regularization-explained-874c3b03f668)\n",
    "*   [L1 and L2 Regularization Methods](https://towardsdatascience.com/l1-and-l2-regularization-methods-ce25e7fc831c)\n",
    "\n"
   ]
  },
  {
   "cell_type": "markdown",
   "id": "40083c07",
   "metadata": {},
   "source": [
    "The two main reasons that cause a model to be complex are:\n",
    "\n",
    "*   Total number of features (handled by L1 regularization)\n",
    "*   The weights of features (handled by L2 regularization)\n",
    "\n",
    "L2 regularization forces weights toward zero but it does not make them exactly zero. L2 regularization acts like a force that removes a small percentage of weights at each iteration. Therefore, weights will never be equal to zero.\n",
    "\n",
    "penalty: ['l2']"
   ]
  },
  {
   "cell_type": "markdown",
   "id": "86a021e3",
   "metadata": {},
   "source": [
    "C = 1/λ, where λ is the regularisation parameter. Smaller values of C specify stronger regularisation. Since parfit fits the model in parallel, we can give a wide range of parameters for C without worrying too much about overhead to find the best model."
   ]
  },
  {
   "cell_type": "markdown",
   "id": "464ea46c",
   "metadata": {},
   "source": [
    "n_jobs: [-1]\n",
    "\n",
    "This parameter is used to specify how many concurrent processes or threads should be used \n",
    "\n"
   ]
  },
  {
   "cell_type": "code",
   "execution_count": 93,
   "id": "2f302c41",
   "metadata": {},
   "outputs": [],
   "source": [
    "from sklearn.model_selection import ParameterGrid\n",
    "from sklearn.linear_model import SGDClassifier\n",
    "from sklearn.metrics import roc_auc_score\n",
    "import parfit.parfit as pf"
   ]
  },
  {
   "cell_type": "code",
   "execution_count": 97,
   "id": "4a0d06b7",
   "metadata": {},
   "outputs": [],
   "source": [
    "#package to create the train | valid | test dataset of our desired proportions after sorting the data"
   ]
  },
  {
   "cell_type": "code",
   "execution_count": 96,
   "id": "b7100380",
   "metadata": {},
   "outputs": [
    {
     "name": "stdout",
     "output_type": "stream",
     "text": [
      "Collecting fast-ml\n",
      "  Downloading fast_ml-3.68-py3-none-any.whl (42 kB)\n",
      "Installing collected packages: fast-ml\n",
      "Successfully installed fast-ml-3.68\n",
      "Note: you may need to restart the kernel to use updated packages.\n"
     ]
    }
   ],
   "source": [
    "pip install fast-ml"
   ]
  },
  {
   "cell_type": "code",
   "execution_count": null,
   "id": "86b01165",
   "metadata": {},
   "outputs": [],
   "source": [
    "param_grid = {'C': [0.001, 0.01, 0.1, 1, 10, 100, 1000] }\n",
    "clf = GridSearchCV(LogisticRegression(penalty='l2'), param_grid)\n",
    "GridSearchCV(cv=None,\n",
    "             estimator=LogisticRegression(C=1.0, intercept_scaling=1,   \n",
    "               dual=False, fit_intercept=True, penalty='l2', tol=0.0001),\n",
    "             param_grid={'C': [0.001, 0.01, 0.1, 1, 10, 100, 1000]})"
   ]
  },
  {
   "cell_type": "code",
   "execution_count": null,
   "id": "2abc3db6",
   "metadata": {},
   "outputs": [],
   "source": [
    "LR = LogisticRegression()\n",
    "LRparam_grid = {\n",
    "    'C': [0.001, 0.01, 0.1, 1, 10, 100, 1000],\n",
    "    'penalty': ['l1', 'l2'],\n",
    "    'max_iter': list(range(100,800,100)),\n",
    "    'solver': ['newton-cg', 'lbfgs', 'liblinear', 'sag', 'saga']\n",
    "}\n",
    "LR_search = GridSearchCV(LR, param_grid=LRparam_grid, refit = True, verbose = 3, cv=5)\n",
    "\n",
    "# fitting the model for grid search \n",
    "LR_search.fit(X_train , y_train)\n",
    "LR_search.best_params_\n",
    "# summarize\n",
    "print('Mean Accuracy: %.3f' % LR_search.best_score_)\n",
    "print('Config: %s' % LR_search.best_params_)"
   ]
  },
  {
   "cell_type": "code",
   "execution_count": 150,
   "id": "586b7ae0",
   "metadata": {},
   "outputs": [
    {
     "data": {
      "text/html": [
       "<div>\n",
       "<style scoped>\n",
       "    .dataframe tbody tr th:only-of-type {\n",
       "        vertical-align: middle;\n",
       "    }\n",
       "\n",
       "    .dataframe tbody tr th {\n",
       "        vertical-align: top;\n",
       "    }\n",
       "\n",
       "    .dataframe thead th {\n",
       "        text-align: right;\n",
       "    }\n",
       "</style>\n",
       "<table border=\"1\" class=\"dataframe\">\n",
       "  <thead>\n",
       "    <tr style=\"text-align: right;\">\n",
       "      <th></th>\n",
       "      <th>topic</th>\n",
       "      <th>story_clean</th>\n",
       "    </tr>\n",
       "  </thead>\n",
       "  <tbody>\n",
       "    <tr>\n",
       "      <th>0</th>\n",
       "      <td>sport</td>\n",
       "      <td>رغم المستوى التقني العام لمباريات الدوري استئن...</td>\n",
       "    </tr>\n",
       "    <tr>\n",
       "      <th>1</th>\n",
       "      <td>sport</td>\n",
       "      <td>أكد فرانك لامبارد مدرب نادي تشيلسي الإنجليزي ل...</td>\n",
       "    </tr>\n",
       "    <tr>\n",
       "      <th>2</th>\n",
       "      <td>sport</td>\n",
       "      <td>وافقت الإدارة التقنية التابعة للجامعة الملكية ...</td>\n",
       "    </tr>\n",
       "    <tr>\n",
       "      <th>3</th>\n",
       "      <td>sport</td>\n",
       "      <td>أعلن الاتحاد الدولي لكرة القدم  فيفا  وقت متأخ...</td>\n",
       "    </tr>\n",
       "    <tr>\n",
       "      <th>4</th>\n",
       "      <td>sport</td>\n",
       "      <td>قررت  الجامعة الملكية للكراطي وأساليب مشتركة  ...</td>\n",
       "    </tr>\n",
       "  </tbody>\n",
       "</table>\n",
       "</div>"
      ],
      "text/plain": [
       "   topic                                        story_clean\n",
       "0  sport  رغم المستوى التقني العام لمباريات الدوري استئن...\n",
       "1  sport  أكد فرانك لامبارد مدرب نادي تشيلسي الإنجليزي ل...\n",
       "2  sport  وافقت الإدارة التقنية التابعة للجامعة الملكية ...\n",
       "3  sport  أعلن الاتحاد الدولي لكرة القدم  فيفا  وقت متأخ...\n",
       "4  sport  قررت  الجامعة الملكية للكراطي وأساليب مشتركة  ..."
      ]
     },
     "execution_count": 150,
     "metadata": {},
     "output_type": "execute_result"
    }
   ],
   "source": [
    "stories_copy.head()"
   ]
  },
  {
   "cell_type": "code",
   "execution_count": 152,
   "id": "b874badb",
   "metadata": {},
   "outputs": [],
   "source": [
    "vectorizer = TfidfVectorizer(min_df=3, max_features=None, strip_accents='unicode',\n",
    "                      analyzer='word', token_pattern=r'\\w{1,}', \n",
    "                      ngram_range=(1, 2), use_idf=1, smooth_idf=1, \n",
    "                      sublinear_tf=1)\n",
    "X = vectorizer.fit_transform(stories[\"story_clean\"])\n",
    "y=stories.topic\n",
    "X_train, X_test, y_train, y_test = train_test_split(X, y, test_size=0.2, random_state=42)\n"
   ]
  },
  {
   "cell_type": "code",
   "execution_count": 153,
   "id": "8fffaff9",
   "metadata": {},
   "outputs": [],
   "source": [
    "LR = LogisticRegression()\n",
    "LRparam_grid = {\n",
    "    'C': [ 0.1, 1, 10, ],\n",
    "    'penalty': ['l1', 'l2'],\n",
    "    'max_iter': list(range(100,800,100)),\n",
    "    'solver': [ 'lbfgs']\n",
    "}\n",
    "LR_search = GridSearchCV(LR, param_grid=LRparam_grid, refit = True, verbose = 3, cv=5)\n",
    "\n"
   ]
  },
  {
   "cell_type": "code",
   "execution_count": 154,
   "id": "065b851b",
   "metadata": {
    "scrolled": false
   },
   "outputs": [
    {
     "name": "stdout",
     "output_type": "stream",
     "text": [
      "Fitting 5 folds for each of 42 candidates, totalling 210 fits\n",
      "[CV 1/5] END ..C=0.1, max_iter=100, penalty=l1, solver=lbfgs; total time=   0.0s\n",
      "[CV 2/5] END ..C=0.1, max_iter=100, penalty=l1, solver=lbfgs; total time=   0.0s\n",
      "[CV 3/5] END ..C=0.1, max_iter=100, penalty=l1, solver=lbfgs; total time=   0.0s\n",
      "[CV 4/5] END ..C=0.1, max_iter=100, penalty=l1, solver=lbfgs; total time=   0.0s\n",
      "[CV 5/5] END ..C=0.1, max_iter=100, penalty=l1, solver=lbfgs; total time=   0.0s\n",
      "[CV 1/5] END ..C=0.1, max_iter=100, penalty=l2, solver=lbfgs; total time=   9.3s\n",
      "[CV 2/5] END ..C=0.1, max_iter=100, penalty=l2, solver=lbfgs; total time=  11.2s\n",
      "[CV 3/5] END ..C=0.1, max_iter=100, penalty=l2, solver=lbfgs; total time=  10.0s\n",
      "[CV 4/5] END ..C=0.1, max_iter=100, penalty=l2, solver=lbfgs; total time=   9.9s\n",
      "[CV 5/5] END ..C=0.1, max_iter=100, penalty=l2, solver=lbfgs; total time=  11.5s\n",
      "[CV 1/5] END ..C=0.1, max_iter=200, penalty=l1, solver=lbfgs; total time=   0.0s\n",
      "[CV 2/5] END ..C=0.1, max_iter=200, penalty=l1, solver=lbfgs; total time=   0.0s\n",
      "[CV 3/5] END ..C=0.1, max_iter=200, penalty=l1, solver=lbfgs; total time=   0.0s\n",
      "[CV 4/5] END ..C=0.1, max_iter=200, penalty=l1, solver=lbfgs; total time=   0.0s\n",
      "[CV 5/5] END ..C=0.1, max_iter=200, penalty=l1, solver=lbfgs; total time=   0.0s\n",
      "[CV 1/5] END ..C=0.1, max_iter=200, penalty=l2, solver=lbfgs; total time=   9.6s\n",
      "[CV 2/5] END ..C=0.1, max_iter=200, penalty=l2, solver=lbfgs; total time=  10.8s\n",
      "[CV 3/5] END ..C=0.1, max_iter=200, penalty=l2, solver=lbfgs; total time=  10.0s\n",
      "[CV 4/5] END ..C=0.1, max_iter=200, penalty=l2, solver=lbfgs; total time=  10.3s\n",
      "[CV 5/5] END ..C=0.1, max_iter=200, penalty=l2, solver=lbfgs; total time=  11.1s\n",
      "[CV 1/5] END ..C=0.1, max_iter=300, penalty=l1, solver=lbfgs; total time=   0.0s\n",
      "[CV 2/5] END ..C=0.1, max_iter=300, penalty=l1, solver=lbfgs; total time=   0.0s\n",
      "[CV 3/5] END ..C=0.1, max_iter=300, penalty=l1, solver=lbfgs; total time=   0.0s\n",
      "[CV 4/5] END ..C=0.1, max_iter=300, penalty=l1, solver=lbfgs; total time=   0.0s\n",
      "[CV 5/5] END ..C=0.1, max_iter=300, penalty=l1, solver=lbfgs; total time=   0.0s\n",
      "[CV 1/5] END ..C=0.1, max_iter=300, penalty=l2, solver=lbfgs; total time=   9.2s\n",
      "[CV 2/5] END ..C=0.1, max_iter=300, penalty=l2, solver=lbfgs; total time=  10.8s\n",
      "[CV 3/5] END ..C=0.1, max_iter=300, penalty=l2, solver=lbfgs; total time=   9.8s\n",
      "[CV 4/5] END ..C=0.1, max_iter=300, penalty=l2, solver=lbfgs; total time=   9.9s\n",
      "[CV 5/5] END ..C=0.1, max_iter=300, penalty=l2, solver=lbfgs; total time=  11.6s\n",
      "[CV 1/5] END ..C=0.1, max_iter=400, penalty=l1, solver=lbfgs; total time=   0.0s\n",
      "[CV 2/5] END ..C=0.1, max_iter=400, penalty=l1, solver=lbfgs; total time=   0.0s\n",
      "[CV 3/5] END ..C=0.1, max_iter=400, penalty=l1, solver=lbfgs; total time=   0.0s\n",
      "[CV 4/5] END ..C=0.1, max_iter=400, penalty=l1, solver=lbfgs; total time=   0.0s\n",
      "[CV 5/5] END ..C=0.1, max_iter=400, penalty=l1, solver=lbfgs; total time=   0.0s\n",
      "[CV 1/5] END ..C=0.1, max_iter=400, penalty=l2, solver=lbfgs; total time=   9.1s\n",
      "[CV 2/5] END ..C=0.1, max_iter=400, penalty=l2, solver=lbfgs; total time=  11.2s\n",
      "[CV 3/5] END ..C=0.1, max_iter=400, penalty=l2, solver=lbfgs; total time=  10.6s\n",
      "[CV 4/5] END ..C=0.1, max_iter=400, penalty=l2, solver=lbfgs; total time=  10.1s\n",
      "[CV 5/5] END ..C=0.1, max_iter=400, penalty=l2, solver=lbfgs; total time=  11.3s\n",
      "[CV 1/5] END ..C=0.1, max_iter=500, penalty=l1, solver=lbfgs; total time=   0.0s\n",
      "[CV 2/5] END ..C=0.1, max_iter=500, penalty=l1, solver=lbfgs; total time=   0.0s\n",
      "[CV 3/5] END ..C=0.1, max_iter=500, penalty=l1, solver=lbfgs; total time=   0.0s\n",
      "[CV 4/5] END ..C=0.1, max_iter=500, penalty=l1, solver=lbfgs; total time=   0.0s\n",
      "[CV 5/5] END ..C=0.1, max_iter=500, penalty=l1, solver=lbfgs; total time=   0.0s\n",
      "[CV 1/5] END ..C=0.1, max_iter=500, penalty=l2, solver=lbfgs; total time=   9.1s\n",
      "[CV 2/5] END ..C=0.1, max_iter=500, penalty=l2, solver=lbfgs; total time=  10.3s\n",
      "[CV 3/5] END ..C=0.1, max_iter=500, penalty=l2, solver=lbfgs; total time=   9.3s\n",
      "[CV 4/5] END ..C=0.1, max_iter=500, penalty=l2, solver=lbfgs; total time=   9.6s\n",
      "[CV 5/5] END ..C=0.1, max_iter=500, penalty=l2, solver=lbfgs; total time=  10.8s\n",
      "[CV 1/5] END ..C=0.1, max_iter=600, penalty=l1, solver=lbfgs; total time=   0.0s\n",
      "[CV 2/5] END ..C=0.1, max_iter=600, penalty=l1, solver=lbfgs; total time=   0.0s\n",
      "[CV 3/5] END ..C=0.1, max_iter=600, penalty=l1, solver=lbfgs; total time=   0.0s\n",
      "[CV 4/5] END ..C=0.1, max_iter=600, penalty=l1, solver=lbfgs; total time=   0.0s\n",
      "[CV 5/5] END ..C=0.1, max_iter=600, penalty=l1, solver=lbfgs; total time=   0.0s\n",
      "[CV 1/5] END ..C=0.1, max_iter=600, penalty=l2, solver=lbfgs; total time=   9.1s\n",
      "[CV 2/5] END ..C=0.1, max_iter=600, penalty=l2, solver=lbfgs; total time=  10.3s\n",
      "[CV 3/5] END ..C=0.1, max_iter=600, penalty=l2, solver=lbfgs; total time=   9.5s\n",
      "[CV 4/5] END ..C=0.1, max_iter=600, penalty=l2, solver=lbfgs; total time=   9.7s\n",
      "[CV 5/5] END ..C=0.1, max_iter=600, penalty=l2, solver=lbfgs; total time=  11.0s\n",
      "[CV 1/5] END ..C=0.1, max_iter=700, penalty=l1, solver=lbfgs; total time=   0.0s\n",
      "[CV 2/5] END ..C=0.1, max_iter=700, penalty=l1, solver=lbfgs; total time=   0.0s\n",
      "[CV 3/5] END ..C=0.1, max_iter=700, penalty=l1, solver=lbfgs; total time=   0.0s\n",
      "[CV 4/5] END ..C=0.1, max_iter=700, penalty=l1, solver=lbfgs; total time=   0.0s\n",
      "[CV 5/5] END ..C=0.1, max_iter=700, penalty=l1, solver=lbfgs; total time=   0.0s\n",
      "[CV 1/5] END ..C=0.1, max_iter=700, penalty=l2, solver=lbfgs; total time=   9.0s\n",
      "[CV 2/5] END ..C=0.1, max_iter=700, penalty=l2, solver=lbfgs; total time=  10.5s\n",
      "[CV 3/5] END ..C=0.1, max_iter=700, penalty=l2, solver=lbfgs; total time=   9.4s\n",
      "[CV 4/5] END ..C=0.1, max_iter=700, penalty=l2, solver=lbfgs; total time=   9.6s\n",
      "[CV 5/5] END ..C=0.1, max_iter=700, penalty=l2, solver=lbfgs; total time=  10.9s\n",
      "[CV 1/5] END ....C=1, max_iter=100, penalty=l1, solver=lbfgs; total time=   0.0s\n",
      "[CV 2/5] END ....C=1, max_iter=100, penalty=l1, solver=lbfgs; total time=   0.0s\n",
      "[CV 3/5] END ....C=1, max_iter=100, penalty=l1, solver=lbfgs; total time=   0.0s\n",
      "[CV 4/5] END ....C=1, max_iter=100, penalty=l1, solver=lbfgs; total time=   0.0s\n",
      "[CV 5/5] END ....C=1, max_iter=100, penalty=l1, solver=lbfgs; total time=   0.0s\n",
      "[CV 1/5] END ....C=1, max_iter=100, penalty=l2, solver=lbfgs; total time=  20.8s\n",
      "[CV 2/5] END ....C=1, max_iter=100, penalty=l2, solver=lbfgs; total time=  22.3s\n",
      "[CV 3/5] END ....C=1, max_iter=100, penalty=l2, solver=lbfgs; total time=  22.4s\n",
      "[CV 4/5] END ....C=1, max_iter=100, penalty=l2, solver=lbfgs; total time=  22.5s\n",
      "[CV 5/5] END ....C=1, max_iter=100, penalty=l2, solver=lbfgs; total time=  25.1s\n",
      "[CV 1/5] END ....C=1, max_iter=200, penalty=l1, solver=lbfgs; total time=   0.0s\n",
      "[CV 2/5] END ....C=1, max_iter=200, penalty=l1, solver=lbfgs; total time=   0.0s\n",
      "[CV 3/5] END ....C=1, max_iter=200, penalty=l1, solver=lbfgs; total time=   0.0s\n",
      "[CV 4/5] END ....C=1, max_iter=200, penalty=l1, solver=lbfgs; total time=   0.0s\n",
      "[CV 5/5] END ....C=1, max_iter=200, penalty=l1, solver=lbfgs; total time=   0.0s\n",
      "[CV 1/5] END ....C=1, max_iter=200, penalty=l2, solver=lbfgs; total time=  22.7s\n",
      "[CV 2/5] END ....C=1, max_iter=200, penalty=l2, solver=lbfgs; total time=  23.5s\n",
      "[CV 3/5] END ....C=1, max_iter=200, penalty=l2, solver=lbfgs; total time=  22.4s\n",
      "[CV 4/5] END ....C=1, max_iter=200, penalty=l2, solver=lbfgs; total time=  23.3s\n",
      "[CV 5/5] END ....C=1, max_iter=200, penalty=l2, solver=lbfgs; total time=  25.5s\n",
      "[CV 1/5] END ....C=1, max_iter=300, penalty=l1, solver=lbfgs; total time=   0.0s\n",
      "[CV 2/5] END ....C=1, max_iter=300, penalty=l1, solver=lbfgs; total time=   0.0s\n",
      "[CV 3/5] END ....C=1, max_iter=300, penalty=l1, solver=lbfgs; total time=   0.0s\n",
      "[CV 4/5] END ....C=1, max_iter=300, penalty=l1, solver=lbfgs; total time=   0.0s\n",
      "[CV 5/5] END ....C=1, max_iter=300, penalty=l1, solver=lbfgs; total time=   0.0s\n",
      "[CV 1/5] END ....C=1, max_iter=300, penalty=l2, solver=lbfgs; total time=  22.1s\n",
      "[CV 2/5] END ....C=1, max_iter=300, penalty=l2, solver=lbfgs; total time=  24.6s\n",
      "[CV 3/5] END ....C=1, max_iter=300, penalty=l2, solver=lbfgs; total time=  24.9s\n",
      "[CV 4/5] END ....C=1, max_iter=300, penalty=l2, solver=lbfgs; total time=  22.9s\n",
      "[CV 5/5] END ....C=1, max_iter=300, penalty=l2, solver=lbfgs; total time=  25.6s\n",
      "[CV 1/5] END ....C=1, max_iter=400, penalty=l1, solver=lbfgs; total time=   0.0s\n",
      "[CV 2/5] END ....C=1, max_iter=400, penalty=l1, solver=lbfgs; total time=   0.0s\n",
      "[CV 3/5] END ....C=1, max_iter=400, penalty=l1, solver=lbfgs; total time=   0.0s\n",
      "[CV 4/5] END ....C=1, max_iter=400, penalty=l1, solver=lbfgs; total time=   0.0s\n",
      "[CV 5/5] END ....C=1, max_iter=400, penalty=l1, solver=lbfgs; total time=   0.0s\n"
     ]
    },
    {
     "name": "stdout",
     "output_type": "stream",
     "text": [
      "[CV 1/5] END ....C=1, max_iter=400, penalty=l2, solver=lbfgs; total time=  21.8s\n",
      "[CV 2/5] END ....C=1, max_iter=400, penalty=l2, solver=lbfgs; total time=  23.1s\n",
      "[CV 3/5] END ....C=1, max_iter=400, penalty=l2, solver=lbfgs; total time=  21.7s\n",
      "[CV 4/5] END ....C=1, max_iter=400, penalty=l2, solver=lbfgs; total time=  21.2s\n",
      "[CV 5/5] END ....C=1, max_iter=400, penalty=l2, solver=lbfgs; total time=  23.4s\n",
      "[CV 1/5] END ....C=1, max_iter=500, penalty=l1, solver=lbfgs; total time=   0.0s\n",
      "[CV 2/5] END ....C=1, max_iter=500, penalty=l1, solver=lbfgs; total time=   0.0s\n",
      "[CV 3/5] END ....C=1, max_iter=500, penalty=l1, solver=lbfgs; total time=   0.0s\n",
      "[CV 4/5] END ....C=1, max_iter=500, penalty=l1, solver=lbfgs; total time=   0.0s\n",
      "[CV 5/5] END ....C=1, max_iter=500, penalty=l1, solver=lbfgs; total time=   0.0s\n",
      "[CV 1/5] END ....C=1, max_iter=500, penalty=l2, solver=lbfgs; total time=  20.4s\n",
      "[CV 2/5] END ....C=1, max_iter=500, penalty=l2, solver=lbfgs; total time=  22.0s\n",
      "[CV 3/5] END ....C=1, max_iter=500, penalty=l2, solver=lbfgs; total time=  21.2s\n",
      "[CV 4/5] END ....C=1, max_iter=500, penalty=l2, solver=lbfgs; total time=  21.3s\n",
      "[CV 5/5] END ....C=1, max_iter=500, penalty=l2, solver=lbfgs; total time=  23.4s\n",
      "[CV 1/5] END ....C=1, max_iter=600, penalty=l1, solver=lbfgs; total time=   0.0s\n",
      "[CV 2/5] END ....C=1, max_iter=600, penalty=l1, solver=lbfgs; total time=   0.0s\n",
      "[CV 3/5] END ....C=1, max_iter=600, penalty=l1, solver=lbfgs; total time=   0.0s\n",
      "[CV 4/5] END ....C=1, max_iter=600, penalty=l1, solver=lbfgs; total time=   0.0s\n",
      "[CV 5/5] END ....C=1, max_iter=600, penalty=l1, solver=lbfgs; total time=   0.0s\n",
      "[CV 1/5] END ....C=1, max_iter=600, penalty=l2, solver=lbfgs; total time=  20.7s\n",
      "[CV 2/5] END ....C=1, max_iter=600, penalty=l2, solver=lbfgs; total time=  22.0s\n",
      "[CV 3/5] END ....C=1, max_iter=600, penalty=l2, solver=lbfgs; total time=  21.0s\n",
      "[CV 4/5] END ....C=1, max_iter=600, penalty=l2, solver=lbfgs; total time=  21.2s\n",
      "[CV 5/5] END ....C=1, max_iter=600, penalty=l2, solver=lbfgs; total time=  23.8s\n",
      "[CV 1/5] END ....C=1, max_iter=700, penalty=l1, solver=lbfgs; total time=   0.0s\n",
      "[CV 2/5] END ....C=1, max_iter=700, penalty=l1, solver=lbfgs; total time=   0.0s\n",
      "[CV 3/5] END ....C=1, max_iter=700, penalty=l1, solver=lbfgs; total time=   0.0s\n",
      "[CV 4/5] END ....C=1, max_iter=700, penalty=l1, solver=lbfgs; total time=   0.0s\n",
      "[CV 5/5] END ....C=1, max_iter=700, penalty=l1, solver=lbfgs; total time=   0.0s\n",
      "[CV 1/5] END ....C=1, max_iter=700, penalty=l2, solver=lbfgs; total time=  20.4s\n",
      "[CV 2/5] END ....C=1, max_iter=700, penalty=l2, solver=lbfgs; total time=  22.2s\n",
      "[CV 3/5] END ....C=1, max_iter=700, penalty=l2, solver=lbfgs; total time=  21.0s\n",
      "[CV 4/5] END ....C=1, max_iter=700, penalty=l2, solver=lbfgs; total time=  20.9s\n",
      "[CV 5/5] END ....C=1, max_iter=700, penalty=l2, solver=lbfgs; total time=  23.3s\n",
      "[CV 1/5] END ...C=10, max_iter=100, penalty=l1, solver=lbfgs; total time=   0.0s\n",
      "[CV 2/5] END ...C=10, max_iter=100, penalty=l1, solver=lbfgs; total time=   0.0s\n",
      "[CV 3/5] END ...C=10, max_iter=100, penalty=l1, solver=lbfgs; total time=   0.0s\n",
      "[CV 4/5] END ...C=10, max_iter=100, penalty=l1, solver=lbfgs; total time=   0.0s\n",
      "[CV 5/5] END ...C=10, max_iter=100, penalty=l1, solver=lbfgs; total time=   0.0s\n",
      "[CV 1/5] END ...C=10, max_iter=100, penalty=l2, solver=lbfgs; total time=  27.4s\n",
      "[CV 2/5] END ...C=10, max_iter=100, penalty=l2, solver=lbfgs; total time=  28.0s\n",
      "[CV 3/5] END ...C=10, max_iter=100, penalty=l2, solver=lbfgs; total time=  26.5s\n",
      "[CV 4/5] END ...C=10, max_iter=100, penalty=l2, solver=lbfgs; total time=  26.9s\n",
      "[CV 5/5] END ...C=10, max_iter=100, penalty=l2, solver=lbfgs; total time=  26.6s\n",
      "[CV 1/5] END ...C=10, max_iter=200, penalty=l1, solver=lbfgs; total time=   0.0s\n",
      "[CV 2/5] END ...C=10, max_iter=200, penalty=l1, solver=lbfgs; total time=   0.0s\n",
      "[CV 3/5] END ...C=10, max_iter=200, penalty=l1, solver=lbfgs; total time=   0.0s\n",
      "[CV 4/5] END ...C=10, max_iter=200, penalty=l1, solver=lbfgs; total time=   0.0s\n",
      "[CV 5/5] END ...C=10, max_iter=200, penalty=l1, solver=lbfgs; total time=   0.0s\n",
      "[CV 1/5] END ...C=10, max_iter=200, penalty=l2, solver=lbfgs; total time=  44.7s\n",
      "[CV 2/5] END ...C=10, max_iter=200, penalty=l2, solver=lbfgs; total time=  40.9s\n",
      "[CV 3/5] END ...C=10, max_iter=200, penalty=l2, solver=lbfgs; total time=  41.6s\n",
      "[CV 4/5] END ...C=10, max_iter=200, penalty=l2, solver=lbfgs; total time=  44.8s\n",
      "[CV 5/5] END ...C=10, max_iter=200, penalty=l2, solver=lbfgs; total time=  38.4s\n",
      "[CV 1/5] END ...C=10, max_iter=300, penalty=l1, solver=lbfgs; total time=   0.0s\n",
      "[CV 2/5] END ...C=10, max_iter=300, penalty=l1, solver=lbfgs; total time=   0.0s\n",
      "[CV 3/5] END ...C=10, max_iter=300, penalty=l1, solver=lbfgs; total time=   0.0s\n",
      "[CV 4/5] END ...C=10, max_iter=300, penalty=l1, solver=lbfgs; total time=   0.0s\n",
      "[CV 5/5] END ...C=10, max_iter=300, penalty=l1, solver=lbfgs; total time=   0.0s\n",
      "[CV 1/5] END ...C=10, max_iter=300, penalty=l2, solver=lbfgs; total time=  44.5s\n",
      "[CV 2/5] END ...C=10, max_iter=300, penalty=l2, solver=lbfgs; total time=  40.8s\n",
      "[CV 3/5] END ...C=10, max_iter=300, penalty=l2, solver=lbfgs; total time=  41.6s\n",
      "[CV 4/5] END ...C=10, max_iter=300, penalty=l2, solver=lbfgs; total time=  44.6s\n",
      "[CV 5/5] END ...C=10, max_iter=300, penalty=l2, solver=lbfgs; total time=  38.6s\n",
      "[CV 1/5] END ...C=10, max_iter=400, penalty=l1, solver=lbfgs; total time=   0.0s\n",
      "[CV 2/5] END ...C=10, max_iter=400, penalty=l1, solver=lbfgs; total time=   0.0s\n",
      "[CV 3/5] END ...C=10, max_iter=400, penalty=l1, solver=lbfgs; total time=   0.0s\n",
      "[CV 4/5] END ...C=10, max_iter=400, penalty=l1, solver=lbfgs; total time=   0.0s\n",
      "[CV 5/5] END ...C=10, max_iter=400, penalty=l1, solver=lbfgs; total time=   0.0s\n",
      "[CV 1/5] END ...C=10, max_iter=400, penalty=l2, solver=lbfgs; total time=  44.6s\n",
      "[CV 2/5] END ...C=10, max_iter=400, penalty=l2, solver=lbfgs; total time=  41.8s\n",
      "[CV 3/5] END ...C=10, max_iter=400, penalty=l2, solver=lbfgs; total time=  41.6s\n",
      "[CV 4/5] END ...C=10, max_iter=400, penalty=l2, solver=lbfgs; total time=  46.0s\n",
      "[CV 5/5] END ...C=10, max_iter=400, penalty=l2, solver=lbfgs; total time=  39.7s\n",
      "[CV 1/5] END ...C=10, max_iter=500, penalty=l1, solver=lbfgs; total time=   0.0s\n",
      "[CV 2/5] END ...C=10, max_iter=500, penalty=l1, solver=lbfgs; total time=   0.0s\n",
      "[CV 3/5] END ...C=10, max_iter=500, penalty=l1, solver=lbfgs; total time=   0.0s\n",
      "[CV 4/5] END ...C=10, max_iter=500, penalty=l1, solver=lbfgs; total time=   0.0s\n",
      "[CV 5/5] END ...C=10, max_iter=500, penalty=l1, solver=lbfgs; total time=   0.0s\n",
      "[CV 1/5] END ...C=10, max_iter=500, penalty=l2, solver=lbfgs; total time=  47.8s\n",
      "[CV 2/5] END ...C=10, max_iter=500, penalty=l2, solver=lbfgs; total time=  42.6s\n",
      "[CV 3/5] END ...C=10, max_iter=500, penalty=l2, solver=lbfgs; total time=  41.6s\n",
      "[CV 4/5] END ...C=10, max_iter=500, penalty=l2, solver=lbfgs; total time=  44.5s\n",
      "[CV 5/5] END ...C=10, max_iter=500, penalty=l2, solver=lbfgs; total time=  38.6s\n",
      "[CV 1/5] END ...C=10, max_iter=600, penalty=l1, solver=lbfgs; total time=   0.0s\n",
      "[CV 2/5] END ...C=10, max_iter=600, penalty=l1, solver=lbfgs; total time=   0.0s\n",
      "[CV 3/5] END ...C=10, max_iter=600, penalty=l1, solver=lbfgs; total time=   0.0s\n",
      "[CV 4/5] END ...C=10, max_iter=600, penalty=l1, solver=lbfgs; total time=   0.0s\n",
      "[CV 5/5] END ...C=10, max_iter=600, penalty=l1, solver=lbfgs; total time=   0.0s\n",
      "[CV 1/5] END ...C=10, max_iter=600, penalty=l2, solver=lbfgs; total time=  45.0s\n",
      "[CV 2/5] END ...C=10, max_iter=600, penalty=l2, solver=lbfgs; total time=  40.9s\n",
      "[CV 3/5] END ...C=10, max_iter=600, penalty=l2, solver=lbfgs; total time=  42.3s\n",
      "[CV 4/5] END ...C=10, max_iter=600, penalty=l2, solver=lbfgs; total time=  44.8s\n",
      "[CV 5/5] END ...C=10, max_iter=600, penalty=l2, solver=lbfgs; total time=  38.6s\n",
      "[CV 1/5] END ...C=10, max_iter=700, penalty=l1, solver=lbfgs; total time=   0.0s\n",
      "[CV 2/5] END ...C=10, max_iter=700, penalty=l1, solver=lbfgs; total time=   0.0s\n",
      "[CV 3/5] END ...C=10, max_iter=700, penalty=l1, solver=lbfgs; total time=   0.0s\n",
      "[CV 4/5] END ...C=10, max_iter=700, penalty=l1, solver=lbfgs; total time=   0.0s\n",
      "[CV 5/5] END ...C=10, max_iter=700, penalty=l1, solver=lbfgs; total time=   0.0s\n",
      "[CV 1/5] END ...C=10, max_iter=700, penalty=l2, solver=lbfgs; total time=  46.0s\n",
      "[CV 2/5] END ...C=10, max_iter=700, penalty=l2, solver=lbfgs; total time=  40.9s\n"
     ]
    },
    {
     "name": "stdout",
     "output_type": "stream",
     "text": [
      "[CV 3/5] END ...C=10, max_iter=700, penalty=l2, solver=lbfgs; total time=  41.7s\n",
      "[CV 4/5] END ...C=10, max_iter=700, penalty=l2, solver=lbfgs; total time=  44.3s\n",
      "[CV 5/5] END ...C=10, max_iter=700, penalty=l2, solver=lbfgs; total time=  38.1s\n",
      "Mean Accuracy: 0.864\n",
      "Config: {'C': 10, 'max_iter': 200, 'penalty': 'l2', 'solver': 'lbfgs'}\n"
     ]
    }
   ],
   "source": [
    "# fitting the model for grid search \n",
    "LR_search.fit(X_train , y_train)\n",
    "LR_search.best_params_\n",
    "# summarize\n",
    "print('Mean Accuracy: %.3f' % LR_search.best_score_)\n",
    "print('Config: %s' % LR_search.best_params_)"
   ]
  },
  {
   "cell_type": "markdown",
   "id": "5e3e6a63",
   "metadata": {},
   "source": [
    "We now have an accuracy of : **0.864** using these params : **Config: {'C': 10, 'max_iter': 200, 'penalty': 'l2', 'solver': 'lbfgs'}**"
   ]
  },
  {
   "cell_type": "markdown",
   "id": "f6899047",
   "metadata": {},
   "source": [
    "### Testing the model with our new params:"
   ]
  },
  {
   "cell_type": "code",
   "execution_count": 157,
   "id": "914b3328",
   "metadata": {},
   "outputs": [
    {
     "name": "stdout",
     "output_type": "stream",
     "text": [
      "                precision    recall  f1-score   support\n",
      "\n",
      "art-et-culture       0.91      0.96      0.94       201\n",
      "      economie       0.83      0.89      0.86       204\n",
      "  faits-divers       0.97      0.93      0.95       209\n",
      "        medias       0.95      0.92      0.93       207\n",
      "       orbites       0.74      0.74      0.74       203\n",
      "     politique       0.77      0.79      0.78       191\n",
      "       regions       0.80      0.84      0.82       179\n",
      "       societe       0.77      0.70      0.73       211\n",
      "         sport       0.98      0.97      0.98       195\n",
      "\n",
      "      accuracy                           0.86      1800\n",
      "     macro avg       0.86      0.86      0.86      1800\n",
      "  weighted avg       0.86      0.86      0.86      1800\n",
      "\n",
      "0.8385555555555557\n"
     ]
    }
   ],
   "source": [
    "# LRparam_grid = {\n",
    "#     'C': [ 10 ],\n",
    "#     'penalty': [ 'l2'],\n",
    "#     'max_iter': 200,\n",
    "#     'solver': [ 'lbfgs']\n",
    "# }\n",
    "X_train, X_test, y_train, y_test = train_test_split(X, y, test_size=0.2, random_state=42)\n",
    "model = LogisticRegression(penalty='l2',C=10,max_iter=200,solver='lbfgs',verbose=3)\n",
    "model.fit(X_train,y_train)\n",
    "pred=model.predict(X_test)\n",
    "print(classification_report(y_test,model.predict(X_test)))\n",
    "score=np.mean(cross_val_score(model, X, y, cv=5))\n",
    "print(score)"
   ]
  },
  {
   "cell_type": "markdown",
   "id": "31c59707",
   "metadata": {},
   "source": [
    "## Save model for later use"
   ]
  },
  {
   "cell_type": "markdown",
   "id": "7a396830",
   "metadata": {},
   "source": [
    "A trained model can be exported and saved so it can be imported and used later. One way to save a model is using Python's joblib module.\n"
   ]
  },
  {
   "cell_type": "code",
   "execution_count": 158,
   "id": "df2ed950",
   "metadata": {},
   "outputs": [
    {
     "name": "stdout",
     "output_type": "stream",
     "text": [
      "Requirement already satisfied: joblib in c:\\users\\lenovo\\anaconda3\\lib\\site-packages (1.0.1)\n",
      "Note: you may need to restart the kernel to use updated packages.\n"
     ]
    }
   ],
   "source": [
    "pip install joblib"
   ]
  },
  {
   "cell_type": "code",
   "execution_count": 159,
   "id": "93ae48cb",
   "metadata": {},
   "outputs": [
    {
     "data": {
      "text/plain": [
       "['finalized_model_arabic_topic_classification.sav']"
      ]
     },
     "execution_count": 159,
     "metadata": {},
     "output_type": "execute_result"
    }
   ],
   "source": [
    "import joblib\n",
    "# save the model to disk\n",
    "filename = 'finalized_model_arabic_topic_classification.sav'\n",
    "joblib.dump(model, filename)"
   ]
  },
  {
   "cell_type": "code",
   "execution_count": null,
   "id": "62be6440",
   "metadata": {},
   "outputs": [],
   "source": []
  }
 ],
 "metadata": {
  "kernelspec": {
   "display_name": "Python 3",
   "language": "python",
   "name": "python3"
  },
  "language_info": {
   "codemirror_mode": {
    "name": "ipython",
    "version": 3
   },
   "file_extension": ".py",
   "mimetype": "text/x-python",
   "name": "python",
   "nbconvert_exporter": "python",
   "pygments_lexer": "ipython3",
   "version": "3.8.8"
  }
 },
 "nbformat": 4,
 "nbformat_minor": 5
}
